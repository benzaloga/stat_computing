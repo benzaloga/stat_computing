{
 "cells": [
  {
   "cell_type": "markdown",
   "metadata": {},
   "source": [
    "# Question 1: Counting the frequencies in a list using dictionary in Python given an unsorted list of some elements"
   ]
  },
  {
   "cell_type": "code",
   "execution_count": 178,
   "metadata": {},
   "outputs": [
    {
     "name": "stdout",
     "output_type": "stream",
     "text": [
      "0 : 2\n",
      "1 : 3\n",
      "2 : 4\n",
      "3 : 5\n",
      "4 : 5\n",
      "5 : 2\n",
      "6 : 6\n",
      "7 : 4\n",
      "8 : 3\n",
      "9 : 5\n",
      "10 : 3\n"
     ]
    },
    {
     "data": {
      "image/png": "[encoded data removed]",
      "text/plain": [
       "<Figure size 432x288 with 1 Axes>"
      ]
     },
     "metadata": {
      "needs_background": "light"
     },
     "output_type": "display_data"
    }
   ],
   "source": [
    "import json\n",
    "import matplotlib.pyplot as plt\n",
    "\n",
    "# Sorting List\n",
    "unsortedlist =[2,4,6,8,4,5,2,1,9,0,4,6,7,4,3,2,1,9,10,3,7,9,6,0,1,3,5,6,7,8,9,10,2,3,6,8,9,10,6,7,4,3]\n",
    "frequency = {} \n",
    "for x in unsortedlist: \n",
    "    frequency[x] = unsortedlist.count(x)\n",
    "        \n",
    "for key, values in sorted(frequency.items()):\n",
    "    print(key, ':', values)\n",
    "\n",
    "# Plotting Results\n",
    "plt.hist(unsortedlist, 21, color='magenta')\n",
    "plt.grid(axis='y')\n",
    "plt.title(\"Frequency of Elements in Unsorted List\")\n",
    "plt.xlabel(\"Element\")\n",
    "plt.ylabel(\"Frequency\")\n",
    "plt.show()\n",
    "\n",
    "# Store results as json\n",
    "with open('dict_results.json', 'w') as in_file:\n",
    "    json.dump(frequency, in_file, sort_keys=True, indent=1)"
   ]
  },
  {
   "attachments": {},
   "cell_type": "markdown",
   "metadata": {},
   "source": [
    "# Question 2, Choice 2: How Much Have You Spent on Amazon? Analyze Amazon Data in different ways, plot your historical transactions amount. You can either summarize that into monthly payment, or show your mean payment, etc."
   ]
  },
  {
   "cell_type": "code",
   "execution_count": 106,
   "metadata": {},
   "outputs": [
    {
     "data": {
      "text/html": [
       "<div>\n",
       "<style scoped>\n",
       "    .dataframe tbody tr th:only-of-type {\n",
       "        vertical-align: middle;\n",
       "    }\n",
       "\n",
       "    .dataframe tbody tr th {\n",
       "        vertical-align: top;\n",
       "    }\n",
       "\n",
       "    .dataframe thead th {\n",
       "        text-align: right;\n",
       "    }\n",
       "</style>\n",
       "<table border=\"1\" class=\"dataframe\">\n",
       "  <thead>\n",
       "    <tr style=\"text-align: right;\">\n",
       "      <th></th>\n",
       "      <th>Order Date</th>\n",
       "      <th>Order ID</th>\n",
       "      <th>Payment Instrument Type</th>\n",
       "      <th>Website</th>\n",
       "      <th>Purchase Order Number</th>\n",
       "      <th>Ordering Customer Email</th>\n",
       "      <th>Shipment Date</th>\n",
       "      <th>Shipping Address Name</th>\n",
       "      <th>Shipping Address Street 1</th>\n",
       "      <th>Shipping Address Street 2</th>\n",
       "      <th>...</th>\n",
       "      <th>Order Status</th>\n",
       "      <th>Carrier Name &amp; Tracking Number</th>\n",
       "      <th>Subtotal</th>\n",
       "      <th>Shipping Charge</th>\n",
       "      <th>Tax Before Promotions</th>\n",
       "      <th>Total Promotions</th>\n",
       "      <th>Tax Charged</th>\n",
       "      <th>Total Charged</th>\n",
       "      <th>Buyer Name</th>\n",
       "      <th>Group Name</th>\n",
       "    </tr>\n",
       "  </thead>\n",
       "  <tbody>\n",
       "    <tr>\n",
       "      <th>0</th>\n",
       "      <td>09/30/18</td>\n",
       "      <td>112-2684899-2885004</td>\n",
       "      <td>MasterCard - 4113</td>\n",
       "      <td>Amazon.com</td>\n",
       "      <td>NaN</td>\n",
       "      <td>benjaminzaloga@gmail.com</td>\n",
       "      <td>10/02/18</td>\n",
       "      <td>Benjamin Zaloga</td>\n",
       "      <td>1900 F ST NW</td>\n",
       "      <td>NaN</td>\n",
       "      <td>...</td>\n",
       "      <td>Shipped</td>\n",
       "      <td>UPS(1Z077V0E0300022474)</td>\n",
       "      <td>$63.15</td>\n",
       "      <td>$0.00</td>\n",
       "      <td>$2.48</td>\n",
       "      <td>$0.00</td>\n",
       "      <td>$2.48</td>\n",
       "      <td>65.63</td>\n",
       "      <td>Ben Zaloga</td>\n",
       "      <td>NaN</td>\n",
       "    </tr>\n",
       "    <tr>\n",
       "      <th>1</th>\n",
       "      <td>09/30/18</td>\n",
       "      <td>112-2684899-2885004</td>\n",
       "      <td>MasterCard - 4113</td>\n",
       "      <td>Amazon.com</td>\n",
       "      <td>NaN</td>\n",
       "      <td>benjaminzaloga@gmail.com</td>\n",
       "      <td>10/01/18</td>\n",
       "      <td>Benjamin Zaloga</td>\n",
       "      <td>1900 F ST NW</td>\n",
       "      <td>NaN</td>\n",
       "      <td>...</td>\n",
       "      <td>Shipped</td>\n",
       "      <td>USPS(9374889678092334052832)</td>\n",
       "      <td>$14.95</td>\n",
       "      <td>$0.00</td>\n",
       "      <td>$0.00</td>\n",
       "      <td>$0.00</td>\n",
       "      <td>$0.00</td>\n",
       "      <td>14.95</td>\n",
       "      <td>Ben Zaloga</td>\n",
       "      <td>NaN</td>\n",
       "    </tr>\n",
       "    <tr>\n",
       "      <th>2</th>\n",
       "      <td>09/30/18</td>\n",
       "      <td>112-8048751-6965834</td>\n",
       "      <td>MasterCard - 4113</td>\n",
       "      <td>Amazon.com</td>\n",
       "      <td>NaN</td>\n",
       "      <td>benjaminzaloga@gmail.com</td>\n",
       "      <td>10/01/18</td>\n",
       "      <td>Benjamin Zaloga</td>\n",
       "      <td>1900 F ST NW</td>\n",
       "      <td>NaN</td>\n",
       "      <td>...</td>\n",
       "      <td>Shipped</td>\n",
       "      <td>USPS(9400110200882853069419)</td>\n",
       "      <td>$3.99</td>\n",
       "      <td>$4.49</td>\n",
       "      <td>$0.00</td>\n",
       "      <td>$0.00</td>\n",
       "      <td>$0.00</td>\n",
       "      <td>8.48</td>\n",
       "      <td>Ben Zaloga</td>\n",
       "      <td>NaN</td>\n",
       "    </tr>\n",
       "    <tr>\n",
       "      <th>3</th>\n",
       "      <td>09/30/18</td>\n",
       "      <td>112-8472124-6020269</td>\n",
       "      <td>MasterCard - 4113</td>\n",
       "      <td>Amazon.com</td>\n",
       "      <td>NaN</td>\n",
       "      <td>benjaminzaloga@gmail.com</td>\n",
       "      <td>09/30/18</td>\n",
       "      <td>Benjamin Zaloga</td>\n",
       "      <td>1900 F ST NW</td>\n",
       "      <td>NaN</td>\n",
       "      <td>...</td>\n",
       "      <td>Shipped</td>\n",
       "      <td>NaN</td>\n",
       "      <td>$1.43</td>\n",
       "      <td>$0.00</td>\n",
       "      <td>$0.08</td>\n",
       "      <td>$0.00</td>\n",
       "      <td>$0.08</td>\n",
       "      <td>1.51</td>\n",
       "      <td>Ben Zaloga</td>\n",
       "      <td>NaN</td>\n",
       "    </tr>\n",
       "    <tr>\n",
       "      <th>4</th>\n",
       "      <td>10/28/18</td>\n",
       "      <td>112-6053322-8885808</td>\n",
       "      <td>MasterCard - 4113</td>\n",
       "      <td>Amazon.com</td>\n",
       "      <td>NaN</td>\n",
       "      <td>benjaminzaloga@gmail.com</td>\n",
       "      <td>10/28/18</td>\n",
       "      <td>Benjamin Zaloga</td>\n",
       "      <td>1900 F ST NW</td>\n",
       "      <td>NaN</td>\n",
       "      <td>...</td>\n",
       "      <td>Shipped</td>\n",
       "      <td>AMZN_US(TBABWI500069395)</td>\n",
       "      <td>$24.99</td>\n",
       "      <td>$0.00</td>\n",
       "      <td>$1.20</td>\n",
       "      <td>$5.00</td>\n",
       "      <td>$1.20</td>\n",
       "      <td>21.19</td>\n",
       "      <td>Ben Zaloga</td>\n",
       "      <td>NaN</td>\n",
       "    </tr>\n",
       "  </tbody>\n",
       "</table>\n",
       "<p>5 rows × 23 columns</p>\n",
       "</div>"
      ],
      "text/plain": [
       "  Order Date             Order ID Payment Instrument Type     Website  \\\n",
       "0   09/30/18  112-2684899-2885004       MasterCard - 4113  Amazon.com   \n",
       "1   09/30/18  112-2684899-2885004       MasterCard - 4113  Amazon.com   \n",
       "2   09/30/18  112-8048751-6965834       MasterCard - 4113  Amazon.com   \n",
       "3   09/30/18  112-8472124-6020269       MasterCard - 4113  Amazon.com   \n",
       "4   10/28/18  112-6053322-8885808       MasterCard - 4113  Amazon.com   \n",
       "\n",
       "   Purchase Order Number   Ordering Customer Email Shipment Date  \\\n",
       "0                    NaN  benjaminzaloga@gmail.com      10/02/18   \n",
       "1                    NaN  benjaminzaloga@gmail.com      10/01/18   \n",
       "2                    NaN  benjaminzaloga@gmail.com      10/01/18   \n",
       "3                    NaN  benjaminzaloga@gmail.com      09/30/18   \n",
       "4                    NaN  benjaminzaloga@gmail.com      10/28/18   \n",
       "\n",
       "  Shipping Address Name Shipping Address Street 1  Shipping Address Street 2  \\\n",
       "0       Benjamin Zaloga              1900 F ST NW                        NaN   \n",
       "1       Benjamin Zaloga              1900 F ST NW                        NaN   \n",
       "2       Benjamin Zaloga              1900 F ST NW                        NaN   \n",
       "3       Benjamin Zaloga              1900 F ST NW                        NaN   \n",
       "4       Benjamin Zaloga              1900 F ST NW                        NaN   \n",
       "\n",
       "   ... Order Status Carrier Name & Tracking Number Subtotal Shipping Charge  \\\n",
       "0  ...      Shipped        UPS(1Z077V0E0300022474)   $63.15           $0.00   \n",
       "1  ...      Shipped   USPS(9374889678092334052832)   $14.95           $0.00   \n",
       "2  ...      Shipped   USPS(9400110200882853069419)    $3.99           $4.49   \n",
       "3  ...      Shipped                            NaN    $1.43           $0.00   \n",
       "4  ...      Shipped       AMZN_US(TBABWI500069395)   $24.99           $0.00   \n",
       "\n",
       "  Tax Before Promotions Total Promotions Tax Charged Total Charged  \\\n",
       "0                 $2.48            $0.00       $2.48         65.63   \n",
       "1                 $0.00            $0.00       $0.00         14.95   \n",
       "2                 $0.00            $0.00       $0.00          8.48   \n",
       "3                 $0.08            $0.00       $0.08          1.51   \n",
       "4                 $1.20            $5.00       $1.20         21.19   \n",
       "\n",
       "   Buyer Name Group Name  \n",
       "0  Ben Zaloga        NaN  \n",
       "1  Ben Zaloga        NaN  \n",
       "2  Ben Zaloga        NaN  \n",
       "3  Ben Zaloga        NaN  \n",
       "4  Ben Zaloga        NaN  \n",
       "\n",
       "[5 rows x 23 columns]"
      ]
     },
     "execution_count": 106,
     "metadata": {},
     "output_type": "execute_result"
    }
   ],
   "source": [
    "import pandas as pd\n",
    "df = pd.read_csv('/Users/benzaloga/Documents/year 3/spring/stat computing/amazon-data.csv')\n",
    "df[\"Total Charged\"] = df[\"Total Charged\"].str.replace('$','').astype(float)\n",
    "df.head()"
   ]
  },
  {
   "cell_type": "code",
   "execution_count": 54,
   "metadata": {},
   "outputs": [
    {
     "name": "stdout",
     "output_type": "stream",
     "text": [
      "Data shape: (45, 23)\n",
      "Maximum spent on a single Amazon order: 1372.87\n",
      "Average amount spent on Amazon orders: 30.51\n",
      "Median amount spent on Amazon orders: 19.5\n"
     ]
    }
   ],
   "source": [
    "# Summary Statistics\n",
    "print('Data shape:', df.shape)\n",
    "print('Maximum spent on a single Amazon order:', round(df[\"Total Charged\"].sum(),2))\n",
    "print('Average amount spent on Amazon orders:', round(df[\"Total Charged\"].mean(),2))\n",
    "print('Median amount spent on Amazon orders:', round(df[\"Total Charged\"].median(),2))"
   ]
  },
  {
   "cell_type": "code",
   "execution_count": 175,
   "metadata": {},
   "outputs": [
    {
     "data": {
      "text/plain": [
       "<matplotlib.axes._subplots.AxesSubplot at 0x7f96334347c0>"
      ]
     },
     "execution_count": 175,
     "metadata": {},
     "output_type": "execute_result"
    },
    {
     "data": {
      "image/png": "[encoded data removed]",
      "text/plain": [
       "<Figure size 1440x720 with 1 Axes>"
      ]
     },
     "metadata": {
      "needs_background": "light"
     },
     "output_type": "display_data"
    }
   ],
   "source": [
    "daily_orders = df.groupby('Order Date').sum()[\"Total Charged\"]\n",
    "daily_orders.plot.bar(title=\"Ben's Amazon Spending Per Day Since Starting College (Sept. 2018 - Present)\", figsize=(20, 10), color='purple')"
   ]
  },
  {
   "cell_type": "code",
   "execution_count": 177,
   "metadata": {},
   "outputs": [
    {
     "data": {
      "text/plain": [
       "<matplotlib.axes._subplots.AxesSubplot at 0x7f9634850400>"
      ]
     },
     "execution_count": 177,
     "metadata": {},
     "output_type": "execute_result"
    },
    {
     "data": {
      "image/png": "[encoded data removed]",
      "text/plain": [
       "<Figure size 1440x720 with 1 Axes>"
      ]
     },
     "metadata": {
      "needs_background": "light"
     },
     "output_type": "display_data"
    }
   ],
   "source": [
    "df['Order Date'] = pd.to_datetime(df['Order Date'])\n",
    "df.head()\n",
    "df.plot.bar(x='Order Date', y='Total Charged', title=\"Ben's Amazon Spending Per Order Since Starting College (Sept. 2018 - Present)\",rot=90, figsize=(20,10), color = 'lime')"
   ]
  }
 ],
 "metadata": {
  "kernelspec": {
   "display_name": "Python 3",
   "language": "python",
   "name": "python3"
  },
  "language_info": {
   "codemirror_mode": {
    "name": "ipython",
    "version": 3
   },
   "file_extension": ".py",
   "mimetype": "text/x-python",
   "name": "python",
   "nbconvert_exporter": "python",
   "pygments_lexer": "ipython3",
   "version": "3.8.3"
  }
 },
 "nbformat": 4,
 "nbformat_minor": 4
}
